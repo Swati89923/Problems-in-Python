{
 "cells": [
  {
   "cell_type": "code",
   "execution_count": 1,
   "metadata": {},
   "outputs": [
    {
     "data": {
      "text/plain": [
       "12"
      ]
     },
     "execution_count": 1,
     "metadata": {},
     "output_type": "execute_result"
    }
   ],
   "source": [
    "#add two num\n",
    "def add_two_num(a,b):\n",
    "\n",
    "    t=a+b\n",
    "    return t\n",
    "add_two_num(4,8)"
   ]
  },
  {
   "cell_type": "code",
   "execution_count": 2,
   "metadata": {},
   "outputs": [
    {
     "name": "stdout",
     "output_type": "stream",
     "text": [
      "hello universe\n"
     ]
    }
   ],
   "source": [
    "#hello  to universe\n",
    "print('hello universe')"
   ]
  },
  {
   "cell_type": "code",
   "execution_count": 4,
   "metadata": {},
   "outputs": [
    {
     "data": {
      "text/plain": [
       "64"
      ]
     },
     "execution_count": 4,
     "metadata": {},
     "output_type": "execute_result"
    }
   ],
   "source": [
    "#find the square root\n",
    "\n",
    "def sq_rt(n):\n",
    "    \n",
    "    return n**2\n",
    "sq_rt(8)"
   ]
  },
  {
   "cell_type": "code",
   "execution_count": 7,
   "metadata": {},
   "outputs": [
    {
     "data": {
      "text/plain": [
       "'triangle not exist'"
      ]
     },
     "execution_count": 7,
     "metadata": {},
     "output_type": "execute_result"
    }
   ],
   "source": [
    "# cal area of triangle\n",
    "def area(a,b,c):\n",
    "    if a+b>c and b+c>a and c+a>b:\n",
    "        s=(a+b+c)/2\n",
    "        area= (s*((s-a)+(s-b)+(s-c)))**0.5\n",
    "        return area \n",
    "    else:\n",
    "        return 'triangle not exist'\n",
    "area(3,9,4)"
   ]
  },
  {
   "cell_type": "code",
   "execution_count": 8,
   "metadata": {},
   "outputs": [
    {
     "data": {
      "text/plain": [
       "(8, 9)"
      ]
     },
     "execution_count": 8,
     "metadata": {},
     "output_type": "execute_result"
    }
   ],
   "source": [
    "#swap two variable\n",
    "def swap_two_variable(a,b):\n",
    "    swapped_num=a,b=b,a\n",
    "    return swapped_num\n",
    "swap_two_variable(9,8)"
   ]
  },
  {
   "cell_type": "code",
   "execution_count": 9,
   "metadata": {},
   "outputs": [
    {
     "data": {
      "text/plain": [
       "62.80193236714976"
      ]
     },
     "execution_count": 9,
     "metadata": {},
     "output_type": "execute_result"
    }
   ],
   "source": [
    "#convert kilometer to miles(1km=0.621 miles)\n",
    "def conv_km_mile(n):\n",
    "    miles=n/0.621\n",
    "    return miles\n",
    "conv_km_mile(39)"
   ]
  },
  {
   "cell_type": "code",
   "execution_count": 10,
   "metadata": {},
   "outputs": [
    {
     "data": {
      "text/plain": [
       "'negative'"
      ]
     },
     "execution_count": 10,
     "metadata": {},
     "output_type": "execute_result"
    }
   ],
   "source": [
    "# check type of integer\n",
    "def check_type_int(n):\n",
    "    if n>0:\n",
    "        return 'positive'\n",
    "    elif n<0:\n",
    "        return 'negative'\n",
    "    else:\n",
    "        return '0'\n",
    "check_type_int(-5)"
   ]
  },
  {
   "cell_type": "code",
   "execution_count": 11,
   "metadata": {},
   "outputs": [
    {
     "data": {
      "text/plain": [
       "'odd'"
      ]
     },
     "execution_count": 11,
     "metadata": {},
     "output_type": "execute_result"
    }
   ],
   "source": [
    "#check even or odd\n",
    "def check_num_odd_even(n):\n",
    "    if n%2==0:\n",
    "        return 'even'\n",
    "    else:\n",
    "        return 'odd'\n",
    "check_num_odd_even(9)"
   ]
  },
  {
   "cell_type": "code",
   "execution_count": 12,
   "metadata": {},
   "outputs": [
    {
     "data": {
      "text/plain": [
       "'not leap year'"
      ]
     },
     "execution_count": 12,
     "metadata": {},
     "output_type": "execute_result"
    }
   ],
   "source": [
    "#check leap yr\n",
    "def leap_yr(n):\n",
    "    if n%4==0 and n%100!=0:\n",
    "        return 'leap year '\n",
    "    else:\n",
    "        return 'not leap year'\n",
    "leap_yr(2000)"
   ]
  },
  {
   "cell_type": "code",
   "execution_count": 18,
   "metadata": {},
   "outputs": [
    {
     "data": {
      "text/plain": [
       "'a and b are greatest'"
      ]
     },
     "execution_count": 18,
     "metadata": {},
     "output_type": "execute_result"
    }
   ],
   "source": [
    "#find largest if three nums are given\n",
    "def largest_num(a,b,c):\n",
    "    if a>b and a>c:\n",
    "        return \"a is greatest\"\n",
    "    elif b>c and b>a:\n",
    "        return 'b is greatest'\n",
    "    elif c>a and c>b:\n",
    "        return \"c is greatest\"\n",
    "    elif a>c and a==b :\n",
    "        return 'a and b are greatest'\n",
    "    elif a>b and b==c:\n",
    "        return 'a and c are greatest'\n",
    "    elif b>a and b==c:\n",
    "        return 'b and c are greatest'\n",
    "    elif c>a and b==c:\n",
    "        return 'b and c are greatest'\n",
    "    elif c>b and a==c:\n",
    "        return 'a and c are greatest'\n",
    "    elif b>c and b==a:\n",
    "        return 'a and a are greatest'\n",
    "    else:\n",
    "        return 'all are equal'\n",
    "largest_num(4,4,0)\n",
    "    \n",
    "\n",
    "\n",
    "    \n",
    "    \n",
    "    "
   ]
  },
  {
   "cell_type": "code",
   "execution_count": 20,
   "metadata": {},
   "outputs": [
    {
     "data": {
      "text/plain": [
       "'prime'"
      ]
     },
     "execution_count": 20,
     "metadata": {},
     "output_type": "execute_result"
    }
   ],
   "source": [
    "# check prime or not\n",
    "def check_prime(n):\n",
    "    for i in range(2,n+1):\n",
    "        if n%i==0:\n",
    "            return 'not_prime'\n",
    "        else:\n",
    "            return 'prime'\n",
    "check_prime(7)"
   ]
  },
  {
   "cell_type": "code",
   "execution_count": 24,
   "metadata": {},
   "outputs": [
    {
     "name": "stdout",
     "output_type": "stream",
     "text": [
      "2\n"
     ]
    }
   ],
   "source": [
    "#generate a random number\n",
    "import random\n",
    "num=random.randint(1,10)\n",
    "print(num)\n"
   ]
  },
  {
   "cell_type": "code",
   "execution_count": 38,
   "metadata": {},
   "outputs": [
    {
     "data": {
      "text/plain": [
       "[11, 13, 17, 19, 23, 29, 31, 37, 41, 43]"
      ]
     },
     "execution_count": 38,
     "metadata": {},
     "output_type": "execute_result"
    }
   ],
   "source": [
    "#def prime_num in an interval\n",
    "def prime_bet_two_num(a,b):\n",
    "        new_list=[]\n",
    "        for num in range(a,b+1):\n",
    "            if num>1:\n",
    "                for i in range(2,num):\n",
    "                    if num%i ==0:\n",
    "                        break\n",
    "                else:\n",
    "                     new_list.append(num)\n",
    "        return new_list\n",
    "           \n",
    "prime_bet_two_num(8,45)#recheck\n",
    "\n",
    "\n",
    "\n",
    "\n",
    "\n",
    "        "
   ]
  },
  {
   "cell_type": "code",
   "execution_count": 39,
   "metadata": {},
   "outputs": [
    {
     "data": {
      "text/plain": [
       "172.4"
      ]
     },
     "execution_count": 39,
     "metadata": {},
     "output_type": "execute_result"
    }
   ],
   "source": [
    "#conveert celccius to frahenite\n",
    "def conv_cel(c):\n",
    "    f=(9/5)*c+32\n",
    "    return f\n",
    "conv_cel(78)"
   ]
  },
  {
   "cell_type": "code",
   "execution_count": 40,
   "metadata": {},
   "outputs": [
    {
     "data": {
      "text/plain": [
       "120"
      ]
     },
     "execution_count": 40,
     "metadata": {},
     "output_type": "execute_result"
    }
   ],
   "source": [
    "#factorial of a number\n",
    "def fact(n):\n",
    "    fact=1\n",
    "    for i in range(1,n+1):\n",
    "        fact=fact*i\n",
    "    return fact\n",
    "fact(5)\n"
   ]
  },
  {
   "cell_type": "code",
   "execution_count": null,
   "metadata": {},
   "outputs": [],
   "source": [
    "def fact(n):\n",
    "    if n==0 or n==1:\n",
    "        return '1'\n",
    "    return fact(n*fact(n-1))\n",
    "pass #redo"
   ]
  },
  {
   "cell_type": "code",
   "execution_count": 52,
   "metadata": {},
   "outputs": [
    {
     "name": "stdout",
     "output_type": "stream",
     "text": [
      "7 x 1 = 7\n",
      "7 x 2 = 14\n",
      "7 x 3 = 21\n",
      "7 x 4 = 28\n",
      "7 x 5 = 35\n",
      "7 x 6 = 42\n",
      "7 x 7 = 49\n",
      "7 x 8 = 56\n",
      "7 x 9 = 63\n",
      "7 x 10 = 70\n"
     ]
    }
   ],
   "source": [
    "#display the multiplication table of a given num\n",
    "def table(n):\n",
    "    for i in range(1,11):\n",
    "        print( n,'x',i,'=', n*i)\n",
    "table(7)"
   ]
  },
  {
   "cell_type": "code",
   "execution_count": 53,
   "metadata": {},
   "outputs": [
    {
     "data": {
      "text/plain": [
       "[0, 1, 1, 2, 3, 5, 8, 13, 21]"
      ]
     },
     "execution_count": 53,
     "metadata": {},
     "output_type": "execute_result"
    }
   ],
   "source": [
    "#print fibonacci series\n",
    "def fib_series(n):\n",
    "    a,b=0,1\n",
    "    new_list=[]\n",
    "    for i in range(n+1):\n",
    "        new_list.append(a)\n",
    "        a,b=b,a+b\n",
    "    return new_list\n",
    "fib_series(8)"
   ]
  },
  {
   "cell_type": "code",
   "execution_count": 56,
   "metadata": {},
   "outputs": [
    {
     "data": {
      "text/plain": [
       "True"
      ]
     },
     "execution_count": 56,
     "metadata": {},
     "output_type": "execute_result"
    }
   ],
   "source": [
    "#check armstrong numbers\n",
    "def check_armstrong(n):\n",
    "    original=n\n",
    "    num_digits=len(str(n))\n",
    "    checked=0\n",
    "    while n>0:\n",
    "        digit=n%10\n",
    "        checked+=digit**num_digits\n",
    "        n=n//10\n",
    "    if original==checked:\n",
    "        return True\n",
    "    else:\n",
    "        return False\n",
    "check_armstrong(153)\n"
   ]
  },
  {
   "cell_type": "code",
   "execution_count": 64,
   "metadata": {},
   "outputs": [],
   "source": [
    "#to find armstrong num in an intrval\n",
    "def arm_in_interval(a,b):\n",
    "    for num in range(a,b+1):\n",
    "        num_digits=len(str(num))\n",
    "        checked=0\n",
    "        while num>0:\n",
    "            digit=num%10\n",
    "            checked+=digit**num_digits\n",
    "            num=num//10\n",
    "        if num==checked:\n",
    "            print(num)\n",
    "    \n",
    "arm_in_interval(8,1000) #redo\n",
    "\n"
   ]
  },
  {
   "cell_type": "code",
   "execution_count": 65,
   "metadata": {},
   "outputs": [
    {
     "data": {
      "text/plain": [
       "4095"
      ]
     },
     "execution_count": 65,
     "metadata": {},
     "output_type": "execute_result"
    }
   ],
   "source": [
    "#sum of natural_num in interval\n",
    "def sum_of_natural_num(n):\n",
    "    sum=0\n",
    "    for i in range(1,n+1):\n",
    "        sum+=i\n",
    "    return sum\n",
    "sum_of_natural_num(90)"
   ]
  },
  {
   "cell_type": "code",
   "execution_count": 66,
   "metadata": {},
   "outputs": [
    {
     "data": {
      "text/plain": [
       "[<function __main__.sq_of_2.<locals>.<lambda>(x)>,\n",
       " <function __main__.sq_of_2.<locals>.<lambda>(x)>,\n",
       " <function __main__.sq_of_2.<locals>.<lambda>(x)>,\n",
       " <function __main__.sq_of_2.<locals>.<lambda>(x)>,\n",
       " <function __main__.sq_of_2.<locals>.<lambda>(x)>,\n",
       " <function __main__.sq_of_2.<locals>.<lambda>(x)>,\n",
       " <function __main__.sq_of_2.<locals>.<lambda>(x)>]"
      ]
     },
     "execution_count": 66,
     "metadata": {},
     "output_type": "execute_result"
    }
   ],
   "source": [
    "#display power of 2 using anonymous function\n",
    "def sq_of_2(n):\n",
    "    power_of_2= [lambda x: (2**x)(i)for i in range(n)]\n",
    "    return power_of_2\n",
    "sq_of_2(7)"
   ]
  },
  {
   "cell_type": "code",
   "execution_count": 1,
   "metadata": {},
   "outputs": [
    {
     "data": {
      "text/plain": [
       "[1, 2, 3, 4, 6, 8, 9, 12, 18, 24, 36, 72]"
      ]
     },
     "execution_count": 1,
     "metadata": {},
     "output_type": "execute_result"
    }
   ],
   "source": [
    "#numbers divisible by another number\n",
    "def check_divisiblity(n):\n",
    "    new_list=[]\n",
    "    for i in range(1,n+1):\n",
    "        if n%i==0:\n",
    "            new_list.append(i)\n",
    "    return new_list\n",
    "check_divisiblity(72)\n",
    "\n"
   ]
  },
  {
   "cell_type": "code",
   "execution_count": 2,
   "metadata": {},
   "outputs": [
    {
     "data": {
      "text/plain": [
       "[9, 114]"
      ]
     },
     "execution_count": 2,
     "metadata": {},
     "output_type": "execute_result"
    }
   ],
   "source": [
    "#check divisibility by another number in a given list\n",
    "def check_div(my_list,n):\n",
    "    new_list=[]\n",
    "    for i in my_list:\n",
    "        if i%n==0:\n",
    "            new_list.append(i)\n",
    "    return new_list\n",
    "check_div([8,9,114,4,98],3)"
   ]
  },
  {
   "cell_type": "code",
   "execution_count": 12,
   "metadata": {},
   "outputs": [
    {
     "data": {
      "text/plain": [
       "[6, 18, 78]"
      ]
     },
     "execution_count": 12,
     "metadata": {},
     "output_type": "execute_result"
    }
   ],
   "source": [
    "#check divisibility of num by another num given in a list.append\n",
    "def check_div(my_list):\n",
    "    new_list=[]\n",
    "    for i in range(len(my_list)):\n",
    "        for j in range(i+1,len(my_list)):\n",
    "            if my_list[i]%my_list[j]==0:\n",
    "                new_list.append(my_list[i])\n",
    "    return new_list\n",
    "check_div([6,18,97,78,5,6])\n"
   ]
  },
  {
   "cell_type": "code",
   "execution_count": 17,
   "metadata": {},
   "outputs": [
    {
     "data": {
      "text/plain": [
       "11"
      ]
     },
     "execution_count": 17,
     "metadata": {},
     "output_type": "execute_result"
    }
   ],
   "source": [
    "#convert decimal to binary,octal and hexadecimal\n",
    "def dec(n):\n",
    "    bin=0\n",
    "    i=1\n",
    "    while n>0:\n",
    "        rem =n%2\n",
    "        bin+=rem*i\n",
    "        i*=10\n",
    "        n=n//2\n",
    "    return bin\n",
    "dec(3)"
   ]
  },
  {
   "cell_type": "code",
   "execution_count": 18,
   "metadata": {},
   "outputs": [
    {
     "data": {
      "text/plain": [
       "131"
      ]
     },
     "execution_count": 18,
     "metadata": {},
     "output_type": "execute_result"
    }
   ],
   "source": [
    "def oct(n):\n",
    "    oct=0\n",
    "    i=1\n",
    "    while n>0:\n",
    "        rem=n%8\n",
    "        oct+=rem*i\n",
    "        i*=10\n",
    "        n=n//8\n",
    "    return oct\n",
    "oct(89)"
   ]
  },
  {
   "cell_type": "code",
   "execution_count": 19,
   "metadata": {},
   "outputs": [
    {
     "data": {
      "text/plain": [
       "240"
      ]
     },
     "execution_count": 19,
     "metadata": {},
     "output_type": "execute_result"
    }
   ],
   "source": [
    "def hexadecimal(n):\n",
    "    hex=0\n",
    "    i=1\n",
    "    while n >0:\n",
    "        rem=n%16\n",
    "        hex+=rem*i\n",
    "        i*=10\n",
    "        n=n//16\n",
    "    return hex\n",
    "hexadecimal(576)"
   ]
  },
  {
   "cell_type": "code",
   "execution_count": 1,
   "metadata": {},
   "outputs": [],
   "source": [
    "#find ASCII value of character Q.no. 24 "
   ]
  },
  {
   "cell_type": "code",
   "execution_count": 4,
   "metadata": {},
   "outputs": [
    {
     "data": {
      "text/plain": [
       "5"
      ]
     },
     "execution_count": 4,
     "metadata": {},
     "output_type": "execute_result"
    }
   ],
   "source": [
    "#find HCF\n",
    "def hcf(a,b):\n",
    "    smaller_num=min(a,b)\n",
    "    for i in range(1,smaller_num+1):\n",
    "        if a%i==0 and b%i==0:\n",
    "            hcf=i\n",
    "    return hcf \n",
    "hcf(5,10)"
   ]
  },
  {
   "cell_type": "code",
   "execution_count": 5,
   "metadata": {},
   "outputs": [
    {
     "data": {
      "text/plain": [
       "[1, 3, 29, 87]"
      ]
     },
     "execution_count": 5,
     "metadata": {},
     "output_type": "execute_result"
    }
   ],
   "source": [
    "#find the factor of a number\n",
    "def factor(n):\n",
    "    new_list=[]\n",
    "    for i in range(1,n+1):\n",
    "        if n%i==0:\n",
    "            new_list.append(i)\n",
    "    return new_list\n",
    "factor(87)"
   ]
  },
  {
   "cell_type": "code",
   "execution_count": 7,
   "metadata": {},
   "outputs": [],
   "source": [
    "#make a simple calculator\n",
    "def calculator(a,b):\n",
    "    if sum(a,b):\n",
    "        return a+b\n",
    "   \n",
    "    pass"
   ]
  },
  {
   "cell_type": "code",
   "execution_count": 8,
   "metadata": {},
   "outputs": [
    {
     "name": "stdout",
     "output_type": "stream",
     "text": [
      "10\n"
     ]
    }
   ],
   "source": [
    "# shuffle deck of cards\n",
    "import random\n",
    "num = random.randint(1,13)\n",
    "print(num)"
   ]
  },
  {
   "cell_type": "code",
   "execution_count": 24,
   "metadata": {},
   "outputs": [
    {
     "data": {
      "text/plain": [
       "'   November 1987\\nMo Tu We Th Fr Sa Su\\n                   1\\n 2  3  4  5  6  7  8\\n 9 10 11 12 13 14 15\\n16 17 18 19 20 21 22\\n23 24 25 26 27 28 29\\n30\\n'"
      ]
     },
     "execution_count": 24,
     "metadata": {},
     "output_type": "execute_result"
    }
   ],
   "source": [
    "# display calender\n",
    "import calendar\n",
    "def cal_dr(year,month):\n",
    "    caler= calendar.month(year,month)\n",
    "    return caler\n",
    "cal_dr(1987,11)\n"
   ]
  },
  {
   "cell_type": "code",
   "execution_count": 27,
   "metadata": {},
   "outputs": [
    {
     "data": {
      "text/plain": [
       "120"
      ]
     },
     "execution_count": 27,
     "metadata": {},
     "output_type": "execute_result"
    }
   ],
   "source": [
    "#calculate factorial using recursion\n",
    "def fact_cal(n):\n",
    "    if n==0 or n==1:\n",
    "        return 1\n",
    "    else:\n",
    "        return n*fact_cal(n-1)\n",
    "fact_cal(5)\n",
    "\n",
    " "
   ]
  },
  {
   "cell_type": "code",
   "execution_count": 28,
   "metadata": {},
   "outputs": [
    {
     "data": {
      "text/plain": [
       "362880"
      ]
     },
     "execution_count": 28,
     "metadata": {},
     "output_type": "execute_result"
    }
   ],
   "source": [
    "# calculate fact by recursion\n",
    "def fact(n):\n",
    "    if n==0 or n==1:\n",
    "        return 1\n",
    "    else:\n",
    "        return n*fact(n-1)\n",
    "fact(9)"
   ]
  },
  {
   "cell_type": "code",
   "execution_count": 16,
   "metadata": {},
   "outputs": [
    {
     "name": "stdout",
     "output_type": "stream",
     "text": [
      "fibonaci series:\n",
      "0 1 1 2 "
     ]
    }
   ],
   "source": [
    "# display fibonacci sequence using recursion\n",
    "def fib_series(n):\n",
    "   if n<0:\n",
    "      return 'invalid input'\n",
    "   elif n==1:\n",
    "      return 0\n",
    "   elif n==2:\n",
    "      return 1\n",
    "   else:\n",
    "      return fib_series(n-1)+ fib_series(n-2)\n",
    "   \n",
    "   #generate the fibonacci series upto n terms\n",
    "def generate_fib_series(n):\n",
    "   if n<0:\n",
    "      return 'invalid inputt'\n",
    "   else:\n",
    "      print('fibonaci series:')\n",
    "      for i in range(1,n+1):\n",
    "         print (fib_series(i),end =' ')\n",
    "\n",
    "   \n",
    "generate_fib_series(4)"
   ]
  },
  {
   "cell_type": "code",
   "execution_count": 21,
   "metadata": {},
   "outputs": [
    {
     "data": {
      "text/plain": [
       "45"
      ]
     },
     "execution_count": 21,
     "metadata": {},
     "output_type": "execute_result"
    }
   ],
   "source": [
    "#sum of natural number using recurssion\n",
    "def sum_natural_num(n):\n",
    "    if n<=0:\n",
    "        return 0\n",
    "    else:\n",
    "        return (n)+sum_natural_num(n-1)\n",
    "sum_natural_num(9)"
   ]
  },
  {
   "cell_type": "code",
   "execution_count": 22,
   "metadata": {},
   "outputs": [
    {
     "data": {
      "text/plain": [
       "5040"
      ]
     },
     "execution_count": 22,
     "metadata": {},
     "output_type": "execute_result"
    }
   ],
   "source": [
    "#factorial using recursion\n",
    "def fact(n):\n",
    "    if n==0 or n==1:\n",
    "        return 1\n",
    "    else:\n",
    "        return n*fact(n-1)\n",
    "fact(7)"
   ]
  },
  {
   "cell_type": "code",
   "execution_count": 41,
   "metadata": {},
   "outputs": [
    {
     "name": "stdout",
     "output_type": "stream",
     "text": [
      "11"
     ]
    }
   ],
   "source": [
    "#convert dec to bin using recursion\n",
    "def dec_to_bin(n):\n",
    "    if n>1:\n",
    "        dec_to_bin(n//2)\n",
    "    print(n%2,end='')\n",
    "dec_to_bin(3)\n"
   ]
  },
  {
   "cell_type": "code",
   "execution_count": 46,
   "metadata": {},
   "outputs": [
    {
     "name": "stdout",
     "output_type": "stream",
     "text": [
      "[16, 2]\n",
      "[2, 0]\n"
     ]
    }
   ],
   "source": [
    "#add two matrices\n",
    "def add_matrices(x,y):\n",
    "    resultant =[[0,0],[0,0]]\n",
    "    for i in range(len(x)):\n",
    "        for j in range(len(x[0])):\n",
    "            resultant[i][j]=x[i][j]+y[i][j]\n",
    "    for r in resultant:\n",
    "        print(r)\n",
    "add_matrices([[8,1],[1,0]],[[8,1],[1,0]])"
   ]
  },
  {
   "cell_type": "code",
   "execution_count": 56,
   "metadata": {},
   "outputs": [
    {
     "data": {
      "text/plain": [
       "' it is a palindrom'"
      ]
     },
     "execution_count": 56,
     "metadata": {},
     "output_type": "execute_result"
    }
   ],
   "source": [
    "# check whether a string is palindrome or not\n",
    "def palin(my_string):\n",
    "    new_string =''\n",
    "    for i in range(len(my_string)-1,-1,-1):\n",
    "        new_string+=my_string[i] \n",
    "    if new_string==my_string:\n",
    "        return ' it is a palindrom'\n",
    "    else:\n",
    "        return 'not'\n",
    "palin('abcba')"
   ]
  },
  {
   "cell_type": "code",
   "execution_count": 60,
   "metadata": {},
   "outputs": [
    {
     "data": {
      "text/plain": [
       "'i am swati age 18 from bihar'"
      ]
     },
     "execution_count": 60,
     "metadata": {},
     "output_type": "execute_result"
    }
   ],
   "source": [
    "# remove punctuation  from a string\n",
    "def rem_punctu(my_string):\n",
    "    new_string = ''\n",
    "    for i in my_string:\n",
    "        if i == '.' or i==',' or i=='!' or i=='?':\n",
    "            continue\n",
    "        else:\n",
    "            new_string+=i\n",
    "    return new_string\n",
    "rem_punctu('i am swati, age 18. from bihar!')"
   ]
  },
  {
   "cell_type": "code",
   "execution_count": 8,
   "metadata": {},
   "outputs": [
    {
     "data": {
      "text/plain": [
       "{'i': 2,\n",
       " ' ': 2,\n",
       " 'a': 2,\n",
       " 'm': 2,\n",
       " 's': 2,\n",
       " 'w': 2,\n",
       " 't': 2,\n",
       " 'f': 2,\n",
       " 'r': 2,\n",
       " 'o': 2,\n",
       " 'b': 2,\n",
       " 'h': 2,\n",
       " 'e': 2,\n",
       " 'c': 2,\n",
       " 'p': 2,\n",
       " 'n': 2,\n",
       " 'u': 2,\n",
       " 'l': 2,\n",
       " 'y': 2,\n",
       " 'd': 2,\n",
       " 'g': 2}"
      ]
     },
     "execution_count": 8,
     "metadata": {},
     "output_type": "execute_result"
    }
   ],
   "source": [
    "# count the number of each vowel in a given strin and store it in a dictionary\n",
    "def count_vowel(my_string): \n",
    "    new_dict ={}\n",
    "    for i in my_string:\n",
    "        if i in 'aeiou':\n",
    "           count=0\n",
    "           if i=='a' or i =='e' or i =='o' or i=='i' or i=='u':\n",
    "            count+=1\n",
    "        new_dict[i]=count\n",
    "    return  new_dict\n",
    "count_vowel('i am swati  from bihar east champaran currently i am too much enthusiastic to learn coding')\n"
   ]
  },
  {
   "cell_type": "code",
   "execution_count": 10,
   "metadata": {},
   "outputs": [
    {
     "data": {
      "text/plain": [
       "{'a': 5, 'b': 6, 'c': 6, 'd': 9}"
      ]
     },
     "execution_count": 10,
     "metadata": {},
     "output_type": "execute_result"
    }
   ],
   "source": [
    "# merge two dictionery\n",
    "def merge_dict(dict_1,dict_2):\n",
    "    combined_dict={}\n",
    "    combined_dict= dict_1.copy()\n",
    "    for key,value in dict_2.items():\n",
    "        combined_dict[key]=value\n",
    "    return combined_dict\n",
    "merge_dict({'a':5,'b':6},{'c':6,'d':9})"
   ]
  },
  {
   "cell_type": "code",
   "execution_count": 2,
   "metadata": {},
   "outputs": [
    {
     "name": "stdout",
     "output_type": "stream",
     "text": [
      "{'student1 ': {'a': 7, 'b': 9}, 'student2': {'d': 9, 'k': 4}}\n"
     ]
    }
   ],
   "source": [
    "#safely create a nestedd dictionary\n",
    "students= {\n",
    "    'student1 ':{'a':7,'b':9},\n",
    "    'student2': {'d':9 ,'k':4}\n",
    "}\n",
    "\n",
    "print(students)\n",
    "    "
   ]
  },
  {
   "cell_type": "code",
   "execution_count": 4,
   "metadata": {},
   "outputs": [
    {
     "data": {
      "text/plain": [
       "4"
      ]
     },
     "execution_count": 4,
     "metadata": {},
     "output_type": "execute_result"
    }
   ],
   "source": [
    "# acess index of a list using for loop\n",
    "\n",
    "def indices_elements(my_list,n):\n",
    "    for i in my_list:\n",
    "        if my_list[i]==n:\n",
    "           return i\n",
    "indices_elements([1,2,3,4,5,6,7],5)\n",
    "        "
   ]
  }
 ],
 "metadata": {
  "kernelspec": {
   "display_name": "Python 3",
   "language": "python",
   "name": "python3"
  },
  "language_info": {
   "codemirror_mode": {
    "name": "ipython",
    "version": 3
   },
   "file_extension": ".py",
   "mimetype": "text/x-python",
   "name": "python",
   "nbconvert_exporter": "python",
   "pygments_lexer": "ipython3",
   "version": "3.12.8"
  }
 },
 "nbformat": 4,
 "nbformat_minor": 2
}
