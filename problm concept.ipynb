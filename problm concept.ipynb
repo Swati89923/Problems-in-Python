{
 "cells": [
  {
   "cell_type": "code",
   "execution_count": 7,
   "metadata": {},
   "outputs": [],
   "source": [
    "def list(numbers,n):\n",
    "    new_list=[]\n",
    "    for i in numbers:\n",
    "        for j in numbers:\n",
    "            if i+j==n:\n",
    "               new_list.append((i,j))\n",
    "    return new_list\n"
   ]
  },
  {
   "cell_type": "code",
   "execution_count": 12,
   "metadata": {},
   "outputs": [
    {
     "data": {
      "text/plain": [
       "[(0, 9), (3, 6), (6, 3), (9, 0)]"
      ]
     },
     "execution_count": 12,
     "metadata": {},
     "output_type": "execute_result"
    }
   ],
   "source": [
    "list([0,3,6,8,9],9)"
   ]
  },
  {
   "cell_type": "code",
   "execution_count": 5,
   "metadata": {},
   "outputs": [],
   "source": [
    "def fac(n):\n",
    "    if n==1:\n",
    "        return 1\n",
    "    else:\n",
    "        return n*fac(n-1)"
   ]
  },
  {
   "cell_type": "code",
   "execution_count": 6,
   "metadata": {},
   "outputs": [
    {
     "data": {
      "text/plain": [
       "720"
      ]
     },
     "execution_count": 6,
     "metadata": {},
     "output_type": "execute_result"
    }
   ],
   "source": [
    "fac(6)"
   ]
  },
  {
   "cell_type": "code",
   "execution_count": 4,
   "metadata": {},
   "outputs": [
    {
     "name": "stdout",
     "output_type": "stream",
     "text": [
      "4 X 1 = 4\n",
      "4 X 2 = 8\n",
      "4 X 3 = 12\n",
      "4 X 4 = 16\n",
      "4 X 5 = 20\n",
      "4 X 6 = 24\n",
      "4 X 7 = 28\n",
      "4 X 8 = 32\n",
      "4 X 9 = 36\n",
      "4 X 10 = 40\n"
     ]
    }
   ],
   "source": [
    "def print_table(n):\n",
    "    for i in range(1, 11):\n",
    "        #print(f\"{i}*{n}=\", n*i)\n",
    "        print(n,\"X\",i,\"=\",n*i)\n",
    "print_table(4)"
   ]
  },
  {
   "cell_type": "code",
   "execution_count": 3,
   "metadata": {},
   "outputs": [
    {
     "data": {
      "text/plain": [
       "11"
      ]
     },
     "execution_count": 3,
     "metadata": {},
     "output_type": "execute_result"
    }
   ],
   "source": [
    "def bin(n):\n",
    "    bin=0\n",
    "    i=1\n",
    "    while n>0:\n",
    "        rem =n%2\n",
    "        bin=bin+(rem*i)\n",
    "        i=i*10\n",
    "        n=n//2\n",
    "    return bin\n",
    "bin(3)"
   ]
  },
  {
   "cell_type": "code",
   "execution_count": 12,
   "metadata": {},
   "outputs": [],
   "source": [
    "def dec(n):\n",
    "    i=0\n",
    "    dec=0\n",
    "    while n>0:\n",
    "        rem=n%10\n",
    "        dec=dec+(rem*(2**i))\n",
    "        i=i+1\n",
    "        n=n//10\n",
    "    return dec"
   ]
  },
  {
   "cell_type": "code",
   "execution_count": 13,
   "metadata": {},
   "outputs": [
    {
     "data": {
      "text/plain": [
       "3"
      ]
     },
     "execution_count": 13,
     "metadata": {},
     "output_type": "execute_result"
    }
   ],
   "source": [
    "dec(11)"
   ]
  },
  {
   "cell_type": "code",
   "execution_count": 19,
   "metadata": {},
   "outputs": [],
   "source": [
    "def palindrome(n):\n",
    "    original_number=n\n",
    "    reversed_resultant=0\n",
    "    while n>0:\n",
    "        rem=n%10\n",
    "        reversed_resultant=reversed_resultant*10+rem\n",
    "        n=n//10\n",
    "    if original_number==reversed_resultant:\n",
    "        return True\n",
    "    else:\n",
    "        return False"
   ]
  },
  {
   "cell_type": "code",
   "execution_count": 21,
   "metadata": {},
   "outputs": [
    {
     "data": {
      "text/plain": [
       "True"
      ]
     },
     "execution_count": 21,
     "metadata": {},
     "output_type": "execute_result"
    }
   ],
   "source": [
    "palindrome(121)"
   ]
  },
  {
   "cell_type": "markdown",
   "metadata": {},
   "source": []
  },
  {
   "cell_type": "code",
   "execution_count": 22,
   "metadata": {},
   "outputs": [
    {
     "data": {
      "text/plain": [
       "False"
      ]
     },
     "execution_count": 22,
     "metadata": {},
     "output_type": "execute_result"
    }
   ],
   "source": [
    "palindrome(678)"
   ]
  },
  {
   "cell_type": "code",
   "execution_count": 23,
   "metadata": {},
   "outputs": [],
   "source": [
    "def count_digit(num):\n",
    "    count=0\n",
    "    while num>0:\n",
    "        num=num//10\n",
    "        count+=1\n",
    "    return count\n"
   ]
  },
  {
   "cell_type": "code",
   "execution_count": 24,
   "metadata": {},
   "outputs": [
    {
     "data": {
      "text/plain": [
       "6"
      ]
     },
     "execution_count": 24,
     "metadata": {},
     "output_type": "execute_result"
    }
   ],
   "source": [
    "count_digit(678688)"
   ]
  },
  {
   "cell_type": "code",
   "execution_count": 25,
   "metadata": {},
   "outputs": [],
   "source": [
    "def even_digit(num):\n",
    "    count=0\n",
    "    while num>0:\n",
    "        num=num//10\n",
    "        if num %2==0:\n",
    "            count+=1\n",
    "    return count"
   ]
  },
  {
   "cell_type": "code",
   "execution_count": 27,
   "metadata": {},
   "outputs": [
    {
     "data": {
      "text/plain": [
       "4"
      ]
     },
     "execution_count": 27,
     "metadata": {},
     "output_type": "execute_result"
    }
   ],
   "source": [
    "even_digit(788746)"
   ]
  },
  {
   "cell_type": "code",
   "execution_count": 42,
   "metadata": {},
   "outputs": [],
   "source": [
    "def list(my_list):\n",
    "    count=0\n",
    "    sum=0\n",
    "    for i in my_list:\n",
    "        count+=1\n",
    "        sum+=i\n",
    "    mean=sum/count\n",
    "    print(mean) \n",
    "    for i in my_list:\n",
    "        sum=sum+(i-mean)**2\n",
    "    st_dev=(sum/count)**0.5\n",
    "    return st_dev\n",
    "\n",
    "    "
   ]
  },
  {
   "cell_type": "code",
   "execution_count": 43,
   "metadata": {},
   "outputs": [
    {
     "name": "stdout",
     "output_type": "stream",
     "text": [
      "5.25\n"
     ]
    },
    {
     "data": {
      "text/plain": [
       "3.307189138830738"
      ]
     },
     "execution_count": 43,
     "metadata": {},
     "output_type": "execute_result"
    }
   ],
   "source": [
    "list([4,7,8,2])"
   ]
  },
  {
   "cell_type": "code",
   "execution_count": 44,
   "metadata": {},
   "outputs": [
    {
     "name": "stdout",
     "output_type": "stream",
     "text": [
      "6.833333333333333\n"
     ]
    },
    {
     "data": {
      "text/plain": [
       "2.823512391016236"
      ]
     },
     "execution_count": 44,
     "metadata": {},
     "output_type": "execute_result"
    }
   ],
   "source": [
    "list([8,8,7,5,6,7])"
   ]
  },
  {
   "cell_type": "code",
   "execution_count": 32,
   "metadata": {},
   "outputs": [],
   "source": [
    "def sq_number(my_list):\n",
    "    sq_list=[]\n",
    "    for i in my_list:\n",
    "        sq_list.append(i**2)\n",
    "    return sq_list"
   ]
  },
  {
   "cell_type": "code",
   "execution_count": 33,
   "metadata": {},
   "outputs": [
    {
     "data": {
      "text/plain": [
       "[25, 64, 81, 25]"
      ]
     },
     "execution_count": 33,
     "metadata": {},
     "output_type": "execute_result"
    }
   ],
   "source": [
    "sq_number([5,8,9,5])"
   ]
  },
  {
   "cell_type": "code",
   "execution_count": 45,
   "metadata": {},
   "outputs": [],
   "source": [
    "def even(my_list):\n",
    "    count=0\n",
    "    for i in my_list:\n",
    "        if i%2==0:\n",
    "            count+=1\n",
    "    return count"
   ]
  },
  {
   "cell_type": "code",
   "execution_count": 46,
   "metadata": {},
   "outputs": [
    {
     "data": {
      "text/plain": [
       "1"
      ]
     },
     "execution_count": 46,
     "metadata": {},
     "output_type": "execute_result"
    }
   ],
   "source": [
    "even([9,8,3,5,7])"
   ]
  },
  {
   "cell_type": "code",
   "execution_count": 51,
   "metadata": {},
   "outputs": [],
   "source": [
    "def reverse_order(my_list):\n",
    "    new_list=[]\n",
    "    for i in range(len(my_list)-1,-1,-1):\n",
    "        new_list.append(my_list[i])\n",
    "    return new_list"
   ]
  },
  {
   "cell_type": "code",
   "execution_count": 52,
   "metadata": {},
   "outputs": [
    {
     "data": {
      "text/plain": [
       "[7, 4, 66, 9]"
      ]
     },
     "execution_count": 52,
     "metadata": {},
     "output_type": "execute_result"
    }
   ],
   "source": [
    "reverse_order([9,66,4,7])"
   ]
  },
  {
   "cell_type": "code",
   "execution_count": 59,
   "metadata": {},
   "outputs": [],
   "source": [
    "def list(my_list):\n",
    "    maximum_num=my_list[0]\n",
    "    for i in my_list:\n",
    "        if maximum_num<i:\n",
    "            maximum_num=i\n",
    "    return maximum_num"
   ]
  },
  {
   "cell_type": "code",
   "execution_count": 60,
   "metadata": {},
   "outputs": [
    {
     "data": {
      "text/plain": [
       "8"
      ]
     },
     "execution_count": 60,
     "metadata": {},
     "output_type": "execute_result"
    }
   ],
   "source": [
    "list([4,5,6,7,8])"
   ]
  },
  {
   "cell_type": "code",
   "execution_count": 71,
   "metadata": {},
   "outputs": [],
   "source": [
    "def index(my_list,n):\n",
    "    for i in range(len(my_list)):\n",
    "        if my_list[i]==n:\n",
    "              return i"
   ]
  },
  {
   "cell_type": "code",
   "execution_count": 73,
   "metadata": {},
   "outputs": [
    {
     "data": {
      "text/plain": [
       "3"
      ]
     },
     "execution_count": 73,
     "metadata": {},
     "output_type": "execute_result"
    }
   ],
   "source": [
    "index([8,4,5,9],9)"
   ]
  },
  {
   "cell_type": "code",
   "execution_count": 77,
   "metadata": {},
   "outputs": [],
   "source": [
    "def lcm(a,b):\n",
    "    maxm=max(a,b)\n",
    "    for i in range(1,maxm+1):\n",
    "        if a%i==0 or b%i==0:\n",
    "            lcm=i\n",
    "    return lcm\n",
    "def lcm_list(my_list):\n",
    "    y=my_list[0]\n",
    "    for j in my_list:\n",
    "        y=lcm(y,j)\n",
    "    return y"
   ]
  },
  {
   "cell_type": "code",
   "execution_count": 78,
   "metadata": {},
   "outputs": [
    {
     "data": {
      "text/plain": [
       "9"
      ]
     },
     "execution_count": 78,
     "metadata": {},
     "output_type": "execute_result"
    }
   ],
   "source": [
    "lcm_list([2,3,4,6,9])"
   ]
  },
  {
   "cell_type": "code",
   "execution_count": 79,
   "metadata": {},
   "outputs": [],
   "source": [
    "def fiboncci(n):\n",
    "    a,b=0,1\n",
    "    list_1=[]\n",
    "    for i in range(n+1):\n",
    "        list_1.append(a)\n",
    "        a,b=b,a+b\n",
    "    return list_1"
   ]
  },
  {
   "cell_type": "code",
   "execution_count": 81,
   "metadata": {},
   "outputs": [
    {
     "data": {
      "text/plain": [
       "[0, 1, 1, 2, 3, 5, 8, 13, 21]"
      ]
     },
     "execution_count": 81,
     "metadata": {},
     "output_type": "execute_result"
    }
   ],
   "source": [
    "fiboncci(8)"
   ]
  },
  {
   "cell_type": "code",
   "execution_count": 83,
   "metadata": {},
   "outputs": [
    {
     "data": {
      "text/plain": [
       "[5040, 40320, 362880, 6]"
      ]
     },
     "execution_count": 83,
     "metadata": {},
     "output_type": "execute_result"
    }
   ],
   "source": [
    "def fact(my_list):\n",
    "    new_list=[]\n",
    "    for i in my_list:\n",
    "        fact=1\n",
    "        for j in range(1,i+1):\n",
    "            fact=fact*j\n",
    "        new_list.append(fact)\n",
    "    return new_list\n",
    "fact([7,8,9,3])\n",
    "        "
   ]
  },
  {
   "cell_type": "code",
   "execution_count": 86,
   "metadata": {},
   "outputs": [
    {
     "data": {
      "text/plain": [
       "[2, 3, 5, 7]"
      ]
     },
     "execution_count": 86,
     "metadata": {},
     "output_type": "execute_result"
    }
   ],
   "source": [
    "def prime(n):\n",
    "    new_list=[]\n",
    "    for i in range(2,n+1):\n",
    "        is_prime=True\n",
    "        for j in range(2,i):\n",
    "            if i%j==0:\n",
    "                is_prime=False\n",
    "                break\n",
    "        if is_prime:\n",
    "            new_list.append(i)\n",
    "    return new_list\n",
    "prime(7)"
   ]
  },
  {
   "cell_type": "code",
   "execution_count": 89,
   "metadata": {},
   "outputs": [
    {
     "data": {
      "text/plain": [
       "10"
      ]
     },
     "execution_count": 89,
     "metadata": {},
     "output_type": "execute_result"
    }
   ],
   "source": [
    "def sum_prime(n):\n",
    "    sum=0\n",
    "    for i in range(2,n+1):\n",
    "        is_prime=True\n",
    "        for j in range(2,i):\n",
    "            if i%j==0:\n",
    "                is_prime=False\n",
    "                break\n",
    "        if is_prime:\n",
    "            sum=sum+i\n",
    "    return sum\n",
    "sum_prime(6)"
   ]
  },
  {
   "cell_type": "code",
   "execution_count": 95,
   "metadata": {},
   "outputs": [
    {
     "data": {
      "text/plain": [
       "([(8, 7),\n",
       "  (8, 9),\n",
       "  (7, 8),\n",
       "  (7, 4),\n",
       "  (7, 9),\n",
       "  (4, 7),\n",
       "  (4, 9),\n",
       "  (9, 8),\n",
       "  (9, 7),\n",
       "  (9, 4)],\n",
       " 10)"
      ]
     },
     "execution_count": 95,
     "metadata": {},
     "output_type": "execute_result"
    }
   ],
   "source": [
    "def gcd(a,b):\n",
    "    mini=min(a,b)\n",
    "    for i in range(1,mini+1):\n",
    "        if a%i==0 and b%i==0:\n",
    "            gcd=i\n",
    "    return gcd\n",
    "def gcd_list(my_list):\n",
    "    y=my_list[0]\n",
    "    for j  in my_list:\n",
    "        y=gcd(y,j)\n",
    "    return y\n",
    "def co_prime(my_list):\n",
    "    new_list=[]\n",
    "    for i in range(len(my_list)):\n",
    "        for j in range(len(my_list)):\n",
    "            if gcd(my_list[i],my_list[j])==1:\n",
    "                new_list.append((my_list[i],my_list[j]))\n",
    "    return new_list,len(new_list)\n",
    "co_prime([8,7,4,9])"
   ]
  },
  {
   "cell_type": "code",
   "execution_count": 107,
   "metadata": {},
   "outputs": [
    {
     "data": {
      "text/plain": [
       "6.5"
      ]
     },
     "execution_count": 107,
     "metadata": {},
     "output_type": "execute_result"
    }
   ],
   "source": [
    "#median\n",
    "def sort(my_list):\n",
    "    \n",
    "    for i in range(len(my_list)):\n",
    "        for j in range(len(my_list)-1):\n",
    "            if my_list[i]>my_list[j]:\n",
    "                my_list[i],my_list[j]=my_list[j],my_list[i]\n",
    "    return my_list\n",
    "def median(my_list):\n",
    "    length=len(my_list)\n",
    "    middle=length//2\n",
    "    if middle%2 !=0:\n",
    "        median=my_list([middle])\n",
    "    else:\n",
    "        median=(my_list[middle-1]+my_list[middle])/2\n",
    "        return median\n",
    "median([9,6,7,8,4])\n",
    "\n"
   ]
  },
  {
   "cell_type": "code",
   "execution_count": 111,
   "metadata": {},
   "outputs": [
    {
     "data": {
      "text/plain": [
       "4"
      ]
     },
     "execution_count": 111,
     "metadata": {},
     "output_type": "execute_result"
    }
   ],
   "source": [
    "def mod(my_list):\n",
    "    max_count=0\n",
    "    for i in range (len(my_list)):\n",
    "        count=0\n",
    "        for j in range(len(my_list)):\n",
    "            if my_list[i]==my_list[j]:\n",
    "                count+=1\n",
    "        if count>max_count:\n",
    "            max_count=count\n",
    "            mod=my_list[i]\n",
    "    return mod\n",
    "mod([2,2,2,2,2,3,3,4,4,4,4,4,4,4,4,4,4])\n",
    "\n"
   ]
  },
  {
   "cell_type": "code",
   "execution_count": 115,
   "metadata": {},
   "outputs": [
    {
     "name": "stdout",
     "output_type": "stream",
     "text": [
      "[[1, 2], [5], [6, 0, 0], [3, 4, 1]]\n"
     ]
    }
   ],
   "source": [
    "def sort_by_sum(list_of_lists):\n",
    "    # Helper function to calculate the sum of an inner list\n",
    "    def calculate_sum(inner_list):\n",
    "        total = 0\n",
    "        for num in inner_list:\n",
    "            total += num\n",
    "        return total\n",
    "\n",
    "    # Implementation of bubble sort\n",
    "    n = len(list_of_lists)\n",
    "    for i in range(n):\n",
    "        for j in range(0, n - i - 1):\n",
    "            # Compare sums of adjacent lists\n",
    "            if calculate_sum(list_of_lists[j]) > calculate_sum(list_of_lists[j + 1]):\n",
    "                # Swap if the previous sum is greater\n",
    "                list_of_lists[j], list_of_lists[j + 1] = list_of_lists[j + 1], list_of_lists[j]\n",
    "\n",
    "    return list_of_lists\n",
    "\n",
    "# Example usage\n",
    "input_list = [[3, 4, 1], [1, 2], [6, 0, 0], [5]]\n",
    "sorted_list = sort_by_sum(input_list)\n",
    "print(sorted_list)\n"
   ]
  },
  {
   "cell_type": "code",
   "execution_count": 118,
   "metadata": {},
   "outputs": [
    {
     "data": {
      "text/plain": [
       "{'a': 9, 'b': 7, 'c': 8}"
      ]
     },
     "execution_count": 118,
     "metadata": {},
     "output_type": "execute_result"
    }
   ],
   "source": [
    "def dict(list_1,list_2):\n",
    "    new_dict={}\n",
    "    minimum= min(len(list_1),len(list_2))\n",
    "    for i in range(minimum):\n",
    "        key=list_1[i]\n",
    "        value=list_2[i]\n",
    "        new_dict[key]=value\n",
    "    return new_dict\n",
    "dict(['a','b','c'],[9,7,8])"
   ]
  },
  {
   "cell_type": "code",
   "execution_count": 119,
   "metadata": {},
   "outputs": [],
   "source": [
    "def merge(dict_1,dict_2):\n",
    "    combined_dict={}\n",
    "    combined_dict=dict_1.copy()\n",
    "    for  key in dict_2:\n",
    "        value=dict_2[key]\n",
    "        combined_dict[key]=value\n",
    "    return combined_dict"
   ]
  },
  {
   "cell_type": "code",
   "execution_count": 120,
   "metadata": {},
   "outputs": [
    {
     "data": {
      "text/plain": [
       "{'a': 9, 'b': 7, 'c': 6, 'd': 5}"
      ]
     },
     "execution_count": 120,
     "metadata": {},
     "output_type": "execute_result"
    }
   ],
   "source": [
    "merge({'a':9,'b':7},{'c':6,'d':5})"
   ]
  },
  {
   "cell_type": "code",
   "execution_count": 121,
   "metadata": {},
   "outputs": [],
   "source": [
    "def dic(my_dic,key):\n",
    "    if key in my_dic:\n",
    "        return True\n",
    "    else:\n",
    "        return False"
   ]
  },
  {
   "cell_type": "code",
   "execution_count": 123,
   "metadata": {},
   "outputs": [
    {
     "data": {
      "text/plain": [
       "True"
      ]
     },
     "execution_count": 123,
     "metadata": {},
     "output_type": "execute_result"
    }
   ],
   "source": [
    "dic({'a':7,'b':9},'b')"
   ]
  },
  {
   "cell_type": "code",
   "execution_count": 125,
   "metadata": {},
   "outputs": [
    {
     "data": {
      "text/plain": [
       "{'a': 8, 'b': 7}"
      ]
     },
     "execution_count": 125,
     "metadata": {},
     "output_type": "execute_result"
    }
   ],
   "source": [
    "def new_dic(my_dict,my_list):\n",
    "    new_dict={}\n",
    "    for i  in my_list:\n",
    "        if i in my_dict:\n",
    "            new_dict[i]=my_dict[i]\n",
    "    return new_dict\n",
    "new_dic({'a':8,'b':7,'c':9},['a','b'])"
   ]
  },
  {
   "cell_type": "code",
   "execution_count": 126,
   "metadata": {},
   "outputs": [],
   "source": [
    "def inverted_dic(my_dict):\n",
    "    new_dict={}\n",
    "    for key,value in my_dict.items():\n",
    "        new_dict[value]=key\n",
    "    return new_dict"
   ]
  },
  {
   "cell_type": "code",
   "execution_count": 127,
   "metadata": {},
   "outputs": [
    {
     "data": {
      "text/plain": [
       "{9: 'a', 5: 'b'}"
      ]
     },
     "execution_count": 127,
     "metadata": {},
     "output_type": "execute_result"
    }
   ],
   "source": [
    "inverted_dic({'a':9,'b':5})"
   ]
  },
  {
   "cell_type": "code",
   "execution_count": 140,
   "metadata": {},
   "outputs": [],
   "source": [
    "def dict(my_dict):\n",
    "        avg_list=[]\n",
    "   \n",
    "        sub_1=0\n",
    "        sub_2=0\n",
    "        sub_3=0\n",
    "        for keys in my_dict.keys():\n",
    "            marks_list=my_dict[keys]\n",
    "            sub_1+=marks_list[0]\n",
    "            sub_2+=marks_list[1]\n",
    "            sub_3+=marks_list[2]\n",
    "        avg_1=sub_1/3\n",
    "        avg_2=sub_2/3\n",
    "        avg_3=sub_3/3\n",
    "        return avg_1,avg_2,avg_3"
   ]
  },
  {
   "cell_type": "code",
   "execution_count": 141,
   "metadata": {},
   "outputs": [
    {
     "data": {
      "text/plain": [
       "(5.0, 5.666666666666667, 3.6666666666666665)"
      ]
     },
     "execution_count": 141,
     "metadata": {},
     "output_type": "execute_result"
    }
   ],
   "source": [
    "dict({'a':[9,8,7],'b':[6,9,4]})"
   ]
  },
  {
   "cell_type": "code",
   "execution_count": 148,
   "metadata": {},
   "outputs": [],
   "source": [
    "def grade(marks):\n",
    "    if 80<marks:\n",
    "        return 10\n",
    "    elif 60<marks<80:\n",
    "        return 8\n",
    "    elif 40<marks<60:\n",
    "        return 6\n",
    "    else:\n",
    "        return 0\n",
    "def calc_cgpa(my_dict):\n",
    "    cgpa={}\n",
    "    credit=[4,10,6]\n",
    "    total_credit=sum(credit)\n",
    "    for i in my_dict:\n",
    "        marks=my_dict[i]\n",
    "        total_grade_point=0\n",
    "        \n",
    "        for j in range(3):\n",
    "            total_grade_point+=credit[j]*grade(marks[j])\n",
    "            cgpa[i]=total_grade_point/total_credit\n",
    "    return cgpa"
   ]
  },
  {
   "cell_type": "code",
   "execution_count": 150,
   "metadata": {},
   "outputs": [
    {
     "data": {
      "text/plain": [
       "{'swati': 9.6, 'diksha': 8.4, 'suruchi': 9.6}"
      ]
     },
     "execution_count": 150,
     "metadata": {},
     "output_type": "execute_result"
    }
   ],
   "source": [
    "calc_cgpa({'swati':[70,90,85], 'diksha':[90,73,65], 'suruchi': [77,92,95]})"
   ]
  },
  {
   "cell_type": "code",
   "execution_count": 151,
   "metadata": {},
   "outputs": [],
   "source": [
    "def people(my_dict,fruit_name):\n",
    "    list=[]\n",
    "    for keys,values in my_dict.items():\n",
    "        if fruit_name in values:\n",
    "            list.append(keys)\n",
    "    return list"
   ]
  },
  {
   "cell_type": "code",
   "execution_count": 152,
   "metadata": {},
   "outputs": [
    {
     "data": {
      "text/plain": [
       "['a']"
      ]
     },
     "execution_count": 152,
     "metadata": {},
     "output_type": "execute_result"
    }
   ],
   "source": [
    "people({'a':['mango','grapes','amrud'],'b':['mango','grapes']},'amrud')"
   ]
  },
  {
   "cell_type": "code",
   "execution_count": 157,
   "metadata": {},
   "outputs": [],
   "source": [
    "def mode_of_dict(my_list):\n",
    "    new_dic={}\n",
    "    for i in range(len(my_list)):\n",
    "        count=0\n",
    "        for j in range(len(my_list)-1):\n",
    "            if my_list[i]==my_list[j]:\n",
    "                count+=1\n",
    "               \n",
    "            new_dic[i]=count\n",
    "        c=max(new_dic.values())\n",
    "        for i in new_dic.keys():\n",
    "          if new_dic[i]==c:\n",
    "             mod=i\n",
    "    return mod\n"
   ]
  },
  {
   "cell_type": "code",
   "execution_count": 158,
   "metadata": {},
   "outputs": [
    {
     "data": {
      "text/plain": [
       "15"
      ]
     },
     "execution_count": 158,
     "metadata": {},
     "output_type": "execute_result"
    }
   ],
   "source": [
    "mode_of_dict([2,2,2,2,2,2,4,4,4,4,4,4,4,4,4,4])"
   ]
  },
  {
   "cell_type": "code",
   "execution_count": 159,
   "metadata": {},
   "outputs": [],
   "source": [
    "def text_file():\n",
    "    new_dict={}\n",
    "    file=open('file name')\n",
    "    \n",
    "    for line in file:\n",
    "        word=line.strip()\n",
    "        if word in new_dict:\n",
    "            new_dict[word]+=1\n",
    "        else:\n",
    "            new_dict[word]=1\n",
    "    return new_dict\n",
    "\n"
   ]
  },
  {
   "cell_type": "code",
   "execution_count": 160,
   "metadata": {},
   "outputs": [],
   "source": [
    "def paragraph(my_string):\n",
    "    new_list=[]\n",
    "    new_sent=''\n",
    "    for char in my_string:\n",
    "        new_sent+=char\n",
    "        if char in ['!','?','.']:\n",
    "            new_list.append(new_sent)\n",
    "            new_sent=''\n",
    "    return new_list"
   ]
  },
  {
   "cell_type": "code",
   "execution_count": 161,
   "metadata": {},
   "outputs": [
    {
     "data": {
      "text/plain": [
       "['A book is a treasure to behold !',\n",
       " ' Filled with knowledge, stories untold.',\n",
       " ' Its pages turned with eager delight.',\n",
       " 'A journey of discovery,day or night.']"
      ]
     },
     "execution_count": 161,
     "metadata": {},
     "output_type": "execute_result"
    }
   ],
   "source": [
    "paragraph('A book is a treasure to behold ! Filled with knowledge, stories untold. Its pages turned with eager delight.A journey of discovery,day or night. ')\n"
   ]
  },
  {
   "cell_type": "code",
   "execution_count": 164,
   "metadata": {},
   "outputs": [],
   "source": [
    "def line_sen(my_paragraph):\n",
    "    new_list=[]\n",
    "    new_sent=''\n",
    "    for char in my_paragraph:\n",
    "        new_sent+=char\n",
    "        if char in ['!','?','.']:\n",
    "            \n",
    "            new_list.append(new_sent)\n",
    "            new_sent=''\n",
    "    return new_list"
   ]
  },
  {
   "cell_type": "code",
   "execution_count": 165,
   "metadata": {},
   "outputs": [
    {
     "data": {
      "text/plain": [
       "['A book is a treasure to behold !',\n",
       " ' Filled with knowledge, stories untold.',\n",
       " ' Its pages turned with eager delight.',\n",
       " 'A journey of discovery,day or night.']"
      ]
     },
     "execution_count": 165,
     "metadata": {},
     "output_type": "execute_result"
    }
   ],
   "source": [
    "line_sen('A book is a treasure to behold ! Filled with knowledge, stories untold. Its pages turned with eager delight.A journey of discovery,day or night. ')\n",
    "\n"
   ]
  },
  {
   "cell_type": "code",
   "execution_count": 166,
   "metadata": {},
   "outputs": [],
   "source": [
    "def new_line(my_paragraph):\n",
    "    new_list=[]\n",
    "    new_sent=''\n",
    "    for char in my_paragraph:\n",
    "        new_sen+=char\n",
    "        if char in ['!','.','?']:\n",
    "            new_list.append(new_sent)\n",
    "            new_sent=''\n",
    "    return new_list"
   ]
  },
  {
   "cell_type": "code",
   "execution_count": 172,
   "metadata": {},
   "outputs": [],
   "source": [
    "def palindrome(my_string):\n",
    "   \n",
    "    my_string = my_string.replace(\" \", \"\")\n",
    "    reversed=\"\"\n",
    "    for i in range(len(my_string)-1,-1,-1):\n",
    "        reversed+=my_string[i]\n",
    "    if reversed==my_string:\n",
    "        return True\n",
    "    else:\n",
    "        return False"
   ]
  },
  {
   "cell_type": "code",
   "execution_count": 173,
   "metadata": {},
   "outputs": [
    {
     "data": {
      "text/plain": [
       "False"
      ]
     },
     "execution_count": 173,
     "metadata": {},
     "output_type": "execute_result"
    }
   ],
   "source": [
    "palindrome('my name is swati')"
   ]
  },
  {
   "cell_type": "code",
   "execution_count": 175,
   "metadata": {},
   "outputs": [
    {
     "data": {
      "text/plain": [
       "True"
      ]
     },
     "execution_count": 175,
     "metadata": {},
     "output_type": "execute_result"
    }
   ],
   "source": [
    "palindrome('abae aba')"
   ]
  },
  {
   "cell_type": "code",
   "execution_count": 181,
   "metadata": {},
   "outputs": [
    {
     "data": {
      "text/plain": [
       "False"
      ]
     },
     "execution_count": 181,
     "metadata": {},
     "output_type": "execute_result"
    }
   ],
   "source": [
    "def valid_mobil_num(num):\n",
    "    num=str(num)\n",
    "    if len(num)==10:\n",
    "     if 6<=int(num[0])<=9:\n",
    "         return True\n",
    "     else:\n",
    "        return False\n",
    "    else:\n",
    "        return False\n",
    "valid_mobil_num('0631223883')"
   ]
  },
  {
   "cell_type": "code",
   "execution_count": 185,
   "metadata": {},
   "outputs": [
    {
     "ename": "TypeError",
     "evalue": "string indices must be integers, not 'str'",
     "output_type": "error",
     "traceback": [
      "\u001b[1;31m---------------------------------------------------------------------------\u001b[0m",
      "\u001b[1;31mTypeError\u001b[0m                                 Traceback (most recent call last)",
      "Cell \u001b[1;32mIn[185], line 11\u001b[0m\n\u001b[0;32m      9\u001b[0m     \u001b[38;5;28;01melse\u001b[39;00m:\n\u001b[0;32m     10\u001b[0m         \u001b[38;5;28;01mreturn\u001b[39;00m \u001b[38;5;28;01mTrue\u001b[39;00m\n\u001b[1;32m---> 11\u001b[0m \u001b[43mvalid_email\u001b[49m\u001b[43m(\u001b[49m\u001b[38;5;124;43m'\u001b[39;49m\u001b[38;5;124;43mswatijha1803@gmail.com\u001b[39;49m\u001b[38;5;124;43m'\u001b[39;49m\u001b[43m)\u001b[49m\n",
      "Cell \u001b[1;32mIn[185], line 3\u001b[0m, in \u001b[0;36mvalid_email\u001b[1;34m(email_string)\u001b[0m\n\u001b[0;32m      1\u001b[0m \u001b[38;5;28;01mdef\u001b[39;00m \u001b[38;5;21mvalid_email\u001b[39m(email_string):\n\u001b[0;32m      2\u001b[0m     email_string\u001b[38;5;241m=\u001b[39m\u001b[38;5;28mstr\u001b[39m(email_string)\n\u001b[1;32m----> 3\u001b[0m     \u001b[38;5;28;01mif\u001b[39;00m \u001b[38;5;28mint\u001b[39m(\u001b[43memail_string\u001b[49m\u001b[43m[\u001b[49m\u001b[38;5;124;43m'\u001b[39;49m\u001b[38;5;124;43m@\u001b[39;49m\u001b[38;5;124;43m'\u001b[39;49m\u001b[43m]\u001b[49m)\u001b[38;5;241m>\u001b[39m\u001b[38;5;28mint\u001b[39m( email_string[\u001b[38;5;124m'\u001b[39m\u001b[38;5;124m.\u001b[39m\u001b[38;5;124m'\u001b[39m]):\n\u001b[0;32m      4\u001b[0m         \u001b[38;5;28;01mreturn\u001b[39;00m \u001b[38;5;28;01mFalse\u001b[39;00m\n\u001b[0;32m      5\u001b[0m     \u001b[38;5;28;01melif\u001b[39;00m \u001b[38;5;28mint\u001b[39m(email_string[\u001b[38;5;124m'\u001b[39m\u001b[38;5;124m@\u001b[39m\u001b[38;5;124m'\u001b[39m])\u001b[38;5;241m==\u001b[39m\u001b[38;5;241m0\u001b[39m \u001b[38;5;129;01mor\u001b[39;00m \u001b[38;5;28mint\u001b[39m (email_string[\u001b[38;5;124m'\u001b[39m\u001b[38;5;124m.\u001b[39m\u001b[38;5;124m'\u001b[39m])\u001b[38;5;241m==\u001b[39m\u001b[38;5;241m0\u001b[39m:\n",
      "\u001b[1;31mTypeError\u001b[0m: string indices must be integers, not 'str'"
     ]
    }
   ],
   "source": [
    "def valid_email(email_string):\n",
    "    email_string=str(email_string)\n",
    "    if int(email_string['@'])>int( email_string['.']):\n",
    "        return False\n",
    "    elif int(email_string['@'])==0 or int (email_string['.'])==0:\n",
    "        return False\n",
    "    elif '@' not in email_string or '.' not in email_string:\n",
    "        return False\n",
    "    else:\n",
    "        return True\n",
    "valid_email('swatijha1803@gmail.com')"
   ]
  },
  {
   "cell_type": "code",
   "execution_count": 195,
   "metadata": {},
   "outputs": [
    {
     "data": {
      "text/plain": [
       "'I Am Swati Jha '"
      ]
     },
     "execution_count": 195,
     "metadata": {},
     "output_type": "execute_result"
    }
   ],
   "source": [
    "def capatilized(my_string):\n",
    "    new_string=''\n",
    "    word=''\n",
    "    for char in my_string:\n",
    "        if char !=' ':\n",
    "            word+=char\n",
    "        else:\n",
    "            if word:\n",
    "                capitalized=word[0].upper()+word[1:]\n",
    "                new_string+=capitalized+' '\n",
    "                word=''\n",
    "    if word:\n",
    "        capitalized=word[0].upper()+word[1:]\n",
    "        new_string+=capitalized+' '\n",
    "    return new_string\n",
    "capatilized('i am swati jha')"
   ]
  },
  {
   "cell_type": "code",
   "execution_count": 1,
   "metadata": {},
   "outputs": [
    {
     "data": {
      "text/plain": [
       "4"
      ]
     },
     "execution_count": 1,
     "metadata": {},
     "output_type": "execute_result"
    }
   ],
   "source": [
    "def list(my_list):\n",
    "    count=0\n",
    "    for i in my_list:\n",
    "        count+=1\n",
    "    return count\n",
    "list([3,4,5,6])"
   ]
  },
  {
   "cell_type": "code",
   "execution_count": 2,
   "metadata": {},
   "outputs": [
    {
     "data": {
      "text/plain": [
       "'emanym'"
      ]
     },
     "execution_count": 2,
     "metadata": {},
     "output_type": "execute_result"
    }
   ],
   "source": [
    "def s(y):\n",
    "    x=''\n",
    "    for i in range(len(y)-1,-1,-1):\n",
    "        x+=y[i]\n",
    "    return x\n",
    "s('myname')"
   ]
  },
  {
   "cell_type": "code",
   "execution_count": 5,
   "metadata": {},
   "outputs": [
    {
     "data": {
      "text/plain": [
       "2"
      ]
     },
     "execution_count": 5,
     "metadata": {},
     "output_type": "execute_result"
    }
   ],
   "source": [
    "def s(y):\n",
    "    coun=0\n",
    "    for i in y:\n",
    "        \n",
    "        if i in 'aeiou':\n",
    "            coun+=1\n",
    "\n",
    "    return coun\n",
    "s('mynaem')"
   ]
  },
  {
   "cell_type": "code",
   "execution_count": 6,
   "metadata": {},
   "outputs": [
    {
     "data": {
      "text/plain": [
       "4"
      ]
     },
     "execution_count": 6,
     "metadata": {},
     "output_type": "execute_result"
    }
   ],
   "source": [
    "def count_word(my_string):\n",
    "    count=1\n",
    "    for i in my_string:\n",
    "        if i==\" \":\n",
    "            count+=1\n",
    "    return count\n",
    "count_word('my name is se')"
   ]
  },
  {
   "cell_type": "code",
   "execution_count": 11,
   "metadata": {},
   "outputs": [
    {
     "data": {
      "text/plain": [
       "5"
      ]
     },
     "execution_count": 11,
     "metadata": {},
     "output_type": "execute_result"
    }
   ],
   "source": [
    "def long(my_string):\n",
    "    current_word=0\n",
    "    longest_word=0\n",
    "    for i in my_string:\n",
    "        if i==\" \":\n",
    "            longest_word=max(current_word,longest_word)\n",
    "            current_word=0\n",
    "        else:\n",
    "            current_word+=1\n",
    "    longest_word=max(current_word,longest_word)\n",
    "    return longest_word\n",
    "long('my name is swati')\n"
   ]
  },
  {
   "cell_type": "code",
   "execution_count": 3,
   "metadata": {},
   "outputs": [
    {
     "name": "stdout",
     "output_type": "stream",
     "text": [
      "[[1, 2], [1, 1, 1, 1], [2, 2, 2], [9], [3, 4, 5]]\n"
     ]
    }
   ],
   "source": [
    "def custom_sort(lst):\n",
    "    # Bubble sort implementation\n",
    "    for i in range(len(lst)):\n",
    "        for j in range(len(lst) - 1):\n",
    "            if calculate_sum(lst[j]) > calculate_sum(lst[j + 1]):\n",
    "                # Swap the lists if the sum of the current list is greater\n",
    "                lst[j], lst[j + 1] = lst[j + 1], lst[j]\n",
    "    return lst\n",
    "\n",
    "def calculate_sum(inner_list):\n",
    "    total = 0\n",
    "    for num in inner_list:\n",
    "        total += num\n",
    "    return total\n",
    "\n",
    "# Example input\n",
    "list_of_lists = [[3, 4, 5], [1, 2], [9], [2, 2, 2], [1, 1, 1, 1]]\n",
    "# Sorting the list of lists\n",
    "sorted_list = custom_sort(list_of_lists)\n",
    "print(sorted_list)\n"
   ]
  },
  {
   "cell_type": "code",
   "execution_count": 12,
   "metadata": {},
   "outputs": [
    {
     "data": {
      "text/plain": [
       "0"
      ]
     },
     "execution_count": 12,
     "metadata": {},
     "output_type": "execute_result"
    }
   ],
   "source": [
    "def sum_list(list1):\n",
    "    list1=list(input('enter your list'))\n",
    "    sum=0\n",
    "    for i in list1:\n",
    "        sum+=i\n",
    "    return sum\n",
    "sum_list(list1)"
   ]
  },
  {
   "cell_type": "code",
   "execution_count": 7,
   "metadata": {},
   "outputs": [
    {
     "data": {
      "text/plain": [
       "0.2334456669999998"
      ]
     },
     "execution_count": 7,
     "metadata": {},
     "output_type": "execute_result"
    }
   ],
   "source": [
    "def dec_prt(n):\n",
    "    integer_part=int(n)\n",
    "    decimal_part=n-integer_part\n",
    "    return decimal_part\n",
    "dec_prt(7.233445667)"
   ]
  }
 ],
 "metadata": {
  "kernelspec": {
   "display_name": "Python 3",
   "language": "python",
   "name": "python3"
  },
  "language_info": {
   "codemirror_mode": {
    "name": "ipython",
    "version": 3
   },
   "file_extension": ".py",
   "mimetype": "text/x-python",
   "name": "python",
   "nbconvert_exporter": "python",
   "pygments_lexer": "ipython3",
   "version": "3.12.10"
  }
 },
 "nbformat": 4,
 "nbformat_minor": 2
}
